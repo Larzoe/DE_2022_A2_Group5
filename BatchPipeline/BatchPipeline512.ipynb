{
 "cells": [
  {
   "cell_type": "code",
   "execution_count": 83,
   "metadata": {},
   "outputs": [
    {
     "name": "stdout",
     "output_type": "stream",
     "text": [
      "root\n",
      " |-- home_team: string (nullable = true)\n",
      " |-- away_team: string (nullable = true)\n",
      " |-- home_score: double (nullable = true)\n",
      " |-- home_xg: double (nullable = true)\n",
      " |-- home_penalty: long (nullable = true)\n",
      " |-- away_score: double (nullable = true)\n",
      " |-- away_xg: double (nullable = true)\n",
      " |-- away_penalty: long (nullable = true)\n",
      " |-- home_manager: string (nullable = true)\n",
      " |-- home_captain: string (nullable = true)\n",
      " |-- away_manager: string (nullable = true)\n",
      " |-- away_captain: string (nullable = true)\n",
      " |-- home_goals: string (nullable = true)\n",
      " |-- away_goals: string (nullable = true)\n",
      " |-- Attendance: long (nullable = true)\n",
      " |-- Venue: string (nullable = true)\n",
      " |-- Officials: string (nullable = true)\n",
      " |-- Date: string (nullable = true)\n",
      " |-- Score: string (nullable = true)\n",
      " |-- Referee: string (nullable = true)\n",
      " |-- Notes: string (nullable = true)\n",
      " |-- Round: string (nullable = true)\n",
      " |-- Host: string (nullable = true)\n",
      " |-- Year: long (nullable = true)\n",
      "\n"
     ]
    }
   ],
   "source": [
    "from pyspark.sql import SparkSession\n",
    "from pyspark import SparkConf\n",
    "from pyspark.sql.types import StructType, StructField, StringType, LongType, DoubleType, DateType\n",
    "from pyspark.sql.functions import *\n",
    "\n",
    "#set up spark (session)\n",
    "sparkConf = SparkConf()\n",
    "sparkConf.setMaster(\"spark://spark-master:7077\")\n",
    "sparkConf.setAppName(\"BatchPipeline\")\n",
    "sparkConf.set(\"spark.driver.memory\", \"2g\")\n",
    "sparkConf.set(\"spark.executor.cores\", \"1\")\n",
    "sparkConf.set(\"spark.driver.cores\", \"1\")\n",
    "\n",
    "spark = SparkSession.builder.config(conf=sparkConf).getOrCreate()\n",
    "\n",
    "#set up hadoop fs configuration\n",
    "conf = spark.sparkContext._jsc.hadoopConfiguration()\n",
    "conf.set(\"fs.gs.impl\", \"com.google.cloud.hadoop.fs.gcs.GoogleHadoopFileSystem\")\n",
    "conf.set(\"fs.AbstractFileSystem.gs.impl\", \"com.google.cloud.hadoop.fs.gcs.GoogleHadoopFS\")\n",
    "\n",
    "#retrieve data from bucket\n",
    "#google storage file path\n",
    "gsc_file_path = 'gs://data_a1/' # bucket name !\n",
    "\n",
    "dataSchema = StructType(\n",
    "    [StructField(\"home_team\", StringType(), True),\n",
    "    StructField(\"away_team\", StringType(), True),\n",
    "    StructField(\"home_score\", DoubleType(), True),\n",
    "    StructField(\"home_xg\", DoubleType(), True),\n",
    "    StructField(\"home_penalty\", LongType(), True),\n",
    "    StructField(\"away_score\", DoubleType(), True),\n",
    "    StructField(\"away_xg\", DoubleType(), True),\n",
    "    StructField(\"away_penalty\", LongType(), True),\n",
    "    StructField(\"home_manager\", StringType(), True),\n",
    "    StructField(\"home_captain\", StringType(), True),\n",
    "    StructField(\"away_manager\", StringType(), True),\n",
    "    StructField(\"away_captain\", StringType(), True),\n",
    "    StructField(\"home_goals\", StringType(), True),\n",
    "    StructField(\"away_goals\", StringType(), True),\n",
    "    StructField(\"Attendance\", LongType(), True),\n",
    "    StructField(\"Venue\", StringType(), True),\n",
    "    StructField(\"Officials\", StringType(), True),\n",
    "    StructField(\"Date\", StringType(), True),\n",
    "    StructField(\"Score\", StringType(), True),\n",
    "    StructField(\"Referee\", StringType(), True),\n",
    "    StructField(\"Notes\", StringType(), True),\n",
    "    StructField(\"Round\", StringType(), True),\n",
    "    StructField(\"Host\", StringType(), True),\n",
    "    StructField(\"Year\", LongType(), True)\n",
    "    ])\n",
    "\n",
    "#add all decades to one dataframe\n",
    "matches = spark.read.format(\"csv\").schema(dataSchema).option(\"header\", \"true\") \\\n",
    "    .load(gsc_file_path+'*.csv')\n",
    "    \n",
    "matches.printSchema()\n",
    "\n"
   ]
  },
  {
   "cell_type": "code",
   "execution_count": 84,
   "metadata": {},
   "outputs": [
    {
     "name": "stdout",
     "output_type": "stream",
     "text": [
      "root\n",
      " |-- home_team: string (nullable = true)\n",
      " |-- away_team: string (nullable = true)\n",
      " |-- home_score: double (nullable = true)\n",
      " |-- home_xg: double (nullable = true)\n",
      " |-- home_penalty: long (nullable = true)\n",
      " |-- away_score: double (nullable = true)\n",
      " |-- away_xg: double (nullable = true)\n",
      " |-- away_penalty: long (nullable = true)\n",
      " |-- home_manager: string (nullable = true)\n",
      " |-- home_captain: string (nullable = true)\n",
      " |-- away_manager: string (nullable = true)\n",
      " |-- away_captain: string (nullable = true)\n",
      " |-- home_goals: string (nullable = true)\n",
      " |-- away_goals: string (nullable = true)\n",
      " |-- Attendance: long (nullable = true)\n",
      " |-- Venue: string (nullable = true)\n",
      " |-- Officials: string (nullable = true)\n",
      " |-- Date: date (nullable = true)\n",
      " |-- Score: string (nullable = true)\n",
      " |-- Referee: string (nullable = true)\n",
      " |-- Notes: string (nullable = true)\n",
      " |-- Round: string (nullable = true)\n",
      " |-- Host: string (nullable = true)\n",
      " |-- Year: date (nullable = true)\n",
      "\n",
      "+---------+---------+----------+-------+------------+----------+-------+------------+------------+------------+------------+------------+----------+----------+----------+-----+---------+----+-----+-------+-----+-----+----+----+\n",
      "|home_team|away_team|home_score|home_xg|home_penalty|away_score|away_xg|away_penalty|home_manager|home_captain|away_manager|away_captain|home_goals|away_goals|Attendance|Venue|Officials|Date|Score|Referee|Notes|Round|Host|Year|\n",
      "+---------+---------+----------+-------+------------+----------+-------+------------+------------+------------+------------+------------+----------+----------+----------+-----+---------+----+-----+-------+-----+-----+----+----+\n",
      "|      337|      371|    6280.0|   null|           2|       1.5|   0.51|           2|        null|        null|        null|        null|      null|      null|      null| null|     null|null| null|   null| null| null|null|null|\n",
      "|     1512|      371|    6280.0|   null|           2|      1.62| 0.6318|           3|        null|        null|        null|        null|      null|      null|      null| null|     null|null| null|   null| null| null|null|null|\n",
      "|      963|      371|    4018.0|   null|           2|       2.4|   0.72|           1|        null|        null|        null|        null|      null|      null|      null| null|     null|null| null|   null| null| null|null|null|\n",
      "+---------+---------+----------+-------+------------+----------+-------+------------+------------+------------+------------+------------+----------+----------+----------+-----+---------+----+-----+-------+-----+-----+----+----+\n",
      "only showing top 3 rows\n",
      "\n"
     ]
    }
   ],
   "source": [
    "#convert StringType to DateType\n",
    "matches = matches.withColumn(\"Date\", to_date(col(\"Date\"), 'yyyy-MM-dd'))\n",
    "matches = matches.withColumn(\"Year\", to_date(col(\"Year\"), 'yyyy'))\n",
    "\n",
    "matches.printSchema()\n",
    "matches.show(3)"
   ]
  },
  {
   "cell_type": "code",
   "execution_count": 85,
   "metadata": {},
   "outputs": [],
   "source": [
    "# write data to bucket\n",
    "matches.write.format(\"csv\").mode(\"overwrite\").save(\"gs://data_a1/matches.csv\") # bucket name !\n"
   ]
  },
  {
   "cell_type": "code",
   "execution_count": null,
   "metadata": {},
   "outputs": [],
   "source": [
    "#use the cloud storage bucket for temporary BigQuery export data used by the connector\n",
    "# bucket = \"data_a1\" # bucket name !\n",
    "# spark.conf.set('temporaryGcsBucket', bucket)\n",
    "\n",
    "# #save the data to BigQuery -> do not forget to change project ID\n",
    "# matches.write.format('bigquery') \\\n",
    "#     .option('table', 'de2022-rrd.a2dataset.matches') \\\n",
    "#     .mode(\"append\") \\\n",
    "#     .save()"
   ]
  },
  {
   "cell_type": "markdown",
   "metadata": {},
   "source": [
    "Calculate the total number and average number of goals per year"
   ]
  },
  {
   "cell_type": "code",
   "execution_count": 86,
   "metadata": {},
   "outputs": [
    {
     "name": "stdout",
     "output_type": "stream",
     "text": [
      "+---------+----------+-----+\n",
      "|home_team|home_score|count|\n",
      "+---------+----------+-----+\n",
      "|      492|    1562.0|    1|\n",
      "|      395|    6993.0|    1|\n",
      "|      904|    2383.0|    1|\n",
      "|     1236|    4787.0|    1|\n",
      "|      562|    3441.0|    1|\n",
      "+---------+----------+-----+\n",
      "only showing top 5 rows\n",
      "\n"
     ]
    }
   ],
   "source": [
    "from pyspark.sql import Row, Window\n",
    "\n",
    "scoring_team = matches.groupby('home_team', ').count()\n",
    "\n",
    "scoring_team.show(5)"
   ]
  },
  {
   "cell_type": "code",
   "execution_count": 113,
   "metadata": {},
   "outputs": [
    {
     "name": "stdout",
     "output_type": "stream",
     "text": [
      "+----------+--------------------+-----------------------+\n",
      "|      Year|                Host|average_goals_per_match|\n",
      "+----------+--------------------+-----------------------+\n",
      "|1930-01-01|             Uruguay|      3.888888888888889|\n",
      "|1934-01-01|               Italy|      4.117647058823529|\n",
      "|1938-01-01|              France|      4.666666666666667|\n",
      "|1950-01-01|              Brazil|                    4.0|\n",
      "|1954-01-01|         Switzerland|      5.384615384615385|\n",
      "|1958-01-01|              Sweden|                    3.6|\n",
      "|1962-01-01|               Chile|                2.78125|\n",
      "|1966-01-01|             England|                2.78125|\n",
      "|1970-01-01|              Mexico|                2.96875|\n",
      "|1974-01-01|             Germany|     2.5526315789473686|\n",
      "|1978-01-01|           Argentina|     2.6842105263157894|\n",
      "|1982-01-01|               Spain|     2.8076923076923075|\n",
      "|1986-01-01|              Mexico|     2.5384615384615383|\n",
      "|1990-01-01|               Italy|     2.2115384615384617|\n",
      "|1994-01-01|       United States|     2.7115384615384617|\n",
      "|1998-01-01|              France|               2.671875|\n",
      "|2002-01-01|Korea Republic, J...|               2.515625|\n",
      "|2006-01-01|             Germany|               2.296875|\n",
      "|2010-01-01|        South Africa|               2.265625|\n",
      "|2014-01-01|              Brazil|               2.671875|\n",
      "|2018-01-01|              Russia|               2.640625|\n",
      "+----------+--------------------+-----------------------+\n",
      "\n"
     ]
    }
   ],
   "source": [
    "from pyspark.sql.functions import *\n",
    "\n",
    "\n",
    "\n",
    "matches_goals = matches.withColumn(\"total_goals\", col(\"home_score\") + col(\"away_score\")) \\\n",
    "    .groupBy('Year', 'Host')\\\n",
    "    .agg(avg('total_goals').alias('average_goals_per_match'))\\\n",
    "    .sort('Year') \\\n",
    "    .na.drop(how = 'any') \\\n",
    "    \n",
    "\n",
    "matches_goals.show(30)"
   ]
  },
  {
   "cell_type": "code",
   "execution_count": null,
   "metadata": {},
   "outputs": [],
   "source": []
  },
  {
   "cell_type": "code",
   "execution_count": null,
   "metadata": {},
   "outputs": [],
   "source": [
    "# stop the spark context\n",
    "# spark.stop()"
   ]
  }
 ],
 "metadata": {
  "kernelspec": {
   "display_name": "Python 3 (ipykernel)",
   "language": "python",
   "name": "python3"
  },
  "language_info": {
   "codemirror_mode": {
    "name": "ipython",
    "version": 3
   },
   "file_extension": ".py",
   "mimetype": "text/x-python",
   "name": "python",
   "nbconvert_exporter": "python",
   "pygments_lexer": "ipython3",
   "version": "3.10.6"
  },
  "vscode": {
   "interpreter": {
    "hash": "9e947f99e5646f1a50a8a3b44013693852ca5b959a6ebe087e36f57b041d6447"
   }
  }
 },
 "nbformat": 4,
 "nbformat_minor": 4
}
