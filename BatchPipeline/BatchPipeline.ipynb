{
 "cells": [
  {
   "cell_type": "code",
   "execution_count": null,
   "metadata": {},
   "outputs": [],
   "source": [
    "from pyspark.sql import SparkSession\n",
    "from pyspark import SparkConf\n",
    "from pyspark.sql.types import StructType, StructField, StringType, LongType, DoubleType, DateType\n",
    "from pyspark.sql.functions import *\n",
    "\n",
    "#set up spark (session)\n",
    "sparkConf = SparkConf()\n",
    "sparkConf.setMaster(\"spark://spark-master:7077\")\n",
    "sparkConf.setAppName(\"BatchPipeline\")\n",
    "sparkConf.set(\"spark.driver.memory\", \"2g\")\n",
    "sparkConf.set(\"spark.executor.cores\", \"1\")\n",
    "sparkConf.set(\"spark.driver.cores\", \"1\")\n",
    "\n",
    "spark = SparkSession.builder.config(conf=sparkConf).getOrCreate()\n",
    "\n",
    "#set up hadoop fs configuration\n",
    "conf = spark.sparkContext._jsc.hadoopConfiguration()\n",
    "conf.set(\"fs.gs.impl\", \"com.google.cloud.hadoop.fs.gcs.GoogleHadoopFileSystem\")\n",
    "conf.set(\"fs.AbstractFileSystem.gs.impl\", \"com.google.cloud.hadoop.fs.gcs.GoogleHadoopFS\")\n",
    "\n",
    "#retrieve data from bucket\n",
    "#google storage file path\n",
    "gsc_file_path = 'gs://de_jads_batch_data/' # bucket name !\n",
    "\n",
    "dataSchema = StructType(\n",
    "    [StructField(\"home_team\", StringType(), True),\n",
    "    StructField(\"away_team\", StringType(), True),\n",
    "    StructField(\"home_score\", LongType(), True),\n",
    "    StructField(\"home_xg\", DoubleType(), True),\n",
    "    StructField(\"home_penalty\", LongType(), True),\n",
    "    StructField(\"away_score\", LongType(), True),\n",
    "    StructField(\"away_xg\", DoubleType(), True),\n",
    "    StructField(\"away_penalty\", LongType(), True),\n",
    "    StructField(\"home_manager\", StringType(), True),\n",
    "    StructField(\"home_captain\", StringType(), True),\n",
    "    StructField(\"away_manager\", StringType(), True),\n",
    "    StructField(\"away_captain\", StringType(), True),\n",
    "    StructField(\"home_goals\", StringType(), True),\n",
    "    StructField(\"away_goals\", StringType(), True),\n",
    "    StructField(\"Attendance\", LongType(), True),\n",
    "    StructField(\"Venue\", StringType(), True),\n",
    "    StructField(\"Officials\", StringType(), True),\n",
    "    StructField(\"Date\", StringType(), True),\n",
    "    StructField(\"Score\", StringType(), True),\n",
    "    StructField(\"Referee\", StringType(), True),\n",
    "    StructField(\"Notes\", StringType(), True),\n",
    "    StructField(\"Round\", StringType(), True),\n",
    "    StructField(\"Host\", StringType(), True),\n",
    "    StructField(\"Year\", LongType(), True)\n",
    "    ])\n",
    "\n",
    "#add all decades to one dataframe\n",
    "matches = spark.read.format(\"csv\").schema(dataSchema).option(\"header\", \"true\") \\\n",
    "    .load(gsc_file_path+'*.csv')\n",
    "    \n",
    "matches.printSchema()\n",
    "\n"
   ]
  },
  {
   "cell_type": "code",
   "execution_count": null,
   "metadata": {},
   "outputs": [],
   "source": [
    "#convert StringType to DateType\n",
    "matches = matches.withColumn(\"Date\", to_date(col(\"Date\"), 'yyyy-MM-dd'))\n",
    "matches = matches.withColumn(\"Year\", to_date(col(\"Year\"), 'yyyy'))\n",
    "\n",
    "matches.printSchema()\n",
    "matches.show(10)"
   ]
  },
  {
   "cell_type": "code",
   "execution_count": null,
   "metadata": {},
   "outputs": [],
   "source": [
    "#write data to bucket\n",
    "matches.write.format(\"csv\").mode(\"overwrite\").save(\"gs://de_jads_batch_data/matches.csv\") # bucket name !\n"
   ]
  },
  {
   "cell_type": "code",
   "execution_count": null,
   "metadata": {},
   "outputs": [],
   "source": [
    "#use the cloud storage bucket for temporary BigQuery export data used by the connector\n",
    "bucket = \"de_jads_temp_annelies\" # bucket name !\n",
    "spark.conf.set('temporaryGcsBucket', bucket)\n",
    "\n",
    "#save the data to BigQuery -> do not forget to change project ID\n",
    "matches.write.format('bigquery') \\\n",
    "    .option('table', 'de2022-362620.assignment2dataset.matches') \\\n",
    "    .mode(\"append\") \\\n",
    "    .save()"
   ]
  },
  {
   "cell_type": "markdown",
   "metadata": {},
   "source": [
    "Calculate the total number and average number of goals per year"
   ]
  },
  {
   "cell_type": "code",
   "execution_count": null,
   "metadata": {},
   "outputs": [],
   "source": [
    "from pyspark.sql.functions import *\n",
    "\n",
    "#nog niet getest of dit werkt + average goals moet nog worden toegevoegd\n",
    "matches_goals = matches.groupby(col('Year')). \\\n",
    "    agg(sum(\"home_score\" + \"away_score\").alias(\"total_goals\"))\n"
   ]
  },
  {
   "cell_type": "code",
   "execution_count": null,
   "metadata": {},
   "outputs": [],
   "source": [
    "# stop the spark context\n",
    "spark.stop()"
   ]
  }
 ],
 "metadata": {
  "kernelspec": {
   "display_name": "Python 3.10.8 64-bit (microsoft store)",
   "language": "python",
   "name": "python3"
  },
  "language_info": {
   "codemirror_mode": {
    "name": "ipython",
    "version": 3
   },
   "file_extension": ".py",
   "mimetype": "text/x-python",
   "name": "python",
   "nbconvert_exporter": "python",
   "pygments_lexer": "ipython3",
   "version": "3.10.8"
  },
  "orig_nbformat": 4,
  "vscode": {
   "interpreter": {
    "hash": "9e947f99e5646f1a50a8a3b44013693852ca5b959a6ebe087e36f57b041d6447"
   }
  }
 },
 "nbformat": 4,
 "nbformat_minor": 2
}
