{
 "cells": [
  {
   "cell_type": "code",
   "execution_count": 1,
   "metadata": {},
   "outputs": [
    {
     "name": "stdout",
     "output_type": "stream",
     "text": [
      "root\n",
      " |-- home_team: string (nullable = true)\n",
      " |-- away_team: string (nullable = true)\n",
      " |-- home_score: long (nullable = true)\n",
      " |-- home_xg: double (nullable = true)\n",
      " |-- home_penalty: long (nullable = true)\n",
      " |-- away_score: long (nullable = true)\n",
      " |-- away_xg: double (nullable = true)\n",
      " |-- away_penalty: long (nullable = true)\n",
      " |-- home_manager: string (nullable = true)\n",
      " |-- home_captain: string (nullable = true)\n",
      " |-- away_manager: string (nullable = true)\n",
      " |-- away_captain: string (nullable = true)\n",
      " |-- home_goals: string (nullable = true)\n",
      " |-- away_goals: string (nullable = true)\n",
      " |-- Attendance: long (nullable = true)\n",
      " |-- Venue: string (nullable = true)\n",
      " |-- Officials: string (nullable = true)\n",
      " |-- Date: string (nullable = true)\n",
      " |-- Score: string (nullable = true)\n",
      " |-- Referee: string (nullable = true)\n",
      " |-- Notes: string (nullable = true)\n",
      " |-- Round: string (nullable = true)\n",
      " |-- Host: string (nullable = true)\n",
      " |-- Year: long (nullable = true)\n",
      "\n"
     ]
    }
   ],
   "source": [
    "from pyspark.sql import SparkSession\n",
    "from pyspark import SparkConf\n",
    "from pyspark.sql.types import StructType, StructField, StringType, LongType, DoubleType, DateType\n",
    "from pyspark.sql.functions import *\n",
    "\n",
    "#set up spark (session)\n",
    "sparkConf = SparkConf()\n",
    "sparkConf.setMaster(\"spark://spark-master:7077\")\n",
    "sparkConf.setAppName(\"BatchPipeline\")\n",
    "sparkConf.set(\"spark.driver.memory\", \"2g\")\n",
    "sparkConf.set(\"spark.executor.cores\", \"1\")\n",
    "sparkConf.set(\"spark.driver.cores\", \"1\")\n",
    "\n",
    "spark = SparkSession.builder.config(conf=sparkConf).getOrCreate()\n",
    "\n",
    "#set up hadoop fs configuration\n",
    "conf = spark.sparkContext._jsc.hadoopConfiguration()\n",
    "conf.set(\"fs.gs.impl\", \"com.google.cloud.hadoop.fs.gcs.GoogleHadoopFileSystem\")\n",
    "conf.set(\"fs.AbstractFileSystem.gs.impl\", \"com.google.cloud.hadoop.fs.gcs.GoogleHadoopFS\")\n",
    "\n",
    "#retrieve data from bucket\n",
    "#google storage file path\n",
    "#make sure this is a seperate bucket that only has the correct files in there\n",
    "gsc_file_path = 'gs://de_jads_batch_data/' # bucket name !\n",
    "\n",
    "dataSchema = StructType(\n",
    "    [StructField(\"home_team\", StringType(), True),\n",
    "    StructField(\"away_team\", StringType(), True),\n",
    "    StructField(\"home_score\", LongType(), True),\n",
    "    StructField(\"home_xg\", DoubleType(), True),\n",
    "    StructField(\"home_penalty\", LongType(), True),\n",
    "    StructField(\"away_score\", LongType(), True),\n",
    "    StructField(\"away_xg\", DoubleType(), True),\n",
    "    StructField(\"away_penalty\", LongType(), True),\n",
    "    StructField(\"home_manager\", StringType(), True),\n",
    "    StructField(\"home_captain\", StringType(), True),\n",
    "    StructField(\"away_manager\", StringType(), True),\n",
    "    StructField(\"away_captain\", StringType(), True),\n",
    "    StructField(\"home_goals\", StringType(), True),\n",
    "    StructField(\"away_goals\", StringType(), True),\n",
    "    StructField(\"Attendance\", LongType(), True),\n",
    "    StructField(\"Venue\", StringType(), True),\n",
    "    StructField(\"Officials\", StringType(), True),\n",
    "    StructField(\"Date\", StringType(), True),\n",
    "    StructField(\"Score\", StringType(), True),\n",
    "    StructField(\"Referee\", StringType(), True),\n",
    "    StructField(\"Notes\", StringType(), True),\n",
    "    StructField(\"Round\", StringType(), True),\n",
    "    StructField(\"Host\", StringType(), True),\n",
    "    StructField(\"Year\", LongType(), True)\n",
    "    ])\n",
    "\n",
    "#add all decades to one dataframe\n",
    "matches = spark.read.format(\"csv\").schema(dataSchema).option(\"header\", \"true\") \\\n",
    "    .load(gsc_file_path+'*.csv')\n",
    "\n",
    "matches.printSchema()\n",
    "\n"
   ]
  },
  {
   "cell_type": "code",
   "execution_count": 2,
   "metadata": {},
   "outputs": [
    {
     "name": "stdout",
     "output_type": "stream",
     "text": [
      "root\n",
      " |-- home_team: string (nullable = true)\n",
      " |-- away_team: string (nullable = true)\n",
      " |-- home_score: long (nullable = true)\n",
      " |-- home_xg: double (nullable = true)\n",
      " |-- home_penalty: long (nullable = true)\n",
      " |-- away_score: long (nullable = true)\n",
      " |-- away_xg: double (nullable = true)\n",
      " |-- away_penalty: long (nullable = true)\n",
      " |-- home_manager: string (nullable = true)\n",
      " |-- home_captain: string (nullable = true)\n",
      " |-- away_manager: string (nullable = true)\n",
      " |-- away_captain: string (nullable = true)\n",
      " |-- home_goals: string (nullable = true)\n",
      " |-- away_goals: string (nullable = true)\n",
      " |-- Attendance: long (nullable = true)\n",
      " |-- Venue: string (nullable = true)\n",
      " |-- Officials: string (nullable = true)\n",
      " |-- Date: date (nullable = true)\n",
      " |-- Score: string (nullable = true)\n",
      " |-- Referee: string (nullable = true)\n",
      " |-- Notes: string (nullable = true)\n",
      " |-- Round: string (nullable = true)\n",
      " |-- Host: string (nullable = true)\n",
      " |-- Year: date (nullable = true)\n",
      "\n",
      "+---------+-----------+----------+-------+------------+----------+-------+------------+--------------------+-----------------+------------------+--------------+--------------------+--------------------+----------+--------------------+--------------------+----------+-----------+---------------+--------------------+-----------------+------+----+\n",
      "|home_team|  away_team|home_score|home_xg|home_penalty|away_score|away_xg|away_penalty|        home_manager|     home_captain|      away_manager|  away_captain|          home_goals|          away_goals|Attendance|               Venue|           Officials|      Date|      Score|        Referee|               Notes|            Round|  Host|Year|\n",
      "+---------+-----------+----------+-------+------------+----------+-------+------------+--------------------+-----------------+------------------+--------------+--------------------+--------------------+----------+--------------------+--------------------+----------+-----------+---------------+--------------------+-----------------+------+----+\n",
      "|  Belgium|    England|         2|    1.5|        null|         0|    1.0|        null|    Roberto Martínez|      Eden Hazard|  Gareth Southgate|    Harry Kane|Thomas Meunier · ...|                  NA|     64406|Gazprom Arena, Sa...|Alireza Faghani (...|2018-07-14|        2–0|Alireza Faghani|                  NA|Third-place match|Russia|null|\n",
      "|  Croatia|    England|         2|    1.7|        null|         1|    0.6|        null|        Zlatko Dalić|      Luka Modrić|  Gareth Southgate|    Harry Kane|Ivan Perišić · 68...| Kieran Trippier · 5|     78011|Olimpiyskiy stadi...|Cüneyt Çakιr (Ref...|2018-07-11|        2–1|   Cüneyt Çakιr| Required Extra Time|      Semi-finals|Russia|null|\n",
      "|   France|    Belgium|         1|    1.7|        null|         0|    0.4|        null|    Didier Deschamps|      Hugo Lloris|  Roberto Martínez|   Eden Hazard|  Samuel Umtiti · 51|                  NA|     64286|Gazprom Arena, Sa...|Andrés Cunha (Ref...|2018-07-10|        1–0|   Andrés Cunha|                  NA|      Semi-finals|Russia|null|\n",
      "|   Sweden|    England|         0|    0.5|        null|         2|    1.0|        null|     Janne Andersson|Andreas Granqvist|  Gareth Southgate|    Harry Kane|                  NA|Harry Maguire · 3...|     39991|Cosmos Arena, Samara|Björn Kuipers (Re...|2018-07-07|        0–2|  Björn Kuipers|                  NA|   Quarter-finals|Russia|null|\n",
      "|   Russia|    Croatia|         2|    1.0|           3|         2|    1.7|           4|Stanislav Cherchesov|    Igor Akinfeev|      Zlatko Dalić|   Luka Modrić|Denis Cheryshev ·...|Andrej Kramarić ·...|     44287|Olimpiyskiy Stadi...|Sandro Ricci (Ref...|2018-07-07|(3) 2–2 (4)|   Sandro Ricci|Croatia won on pe...|   Quarter-finals|Russia|null|\n",
      "|  Uruguay|     France|         0|    0.9|        null|         2|    0.5|        null|       Óscar Tabárez|      Diego Godín|  Didier Deschamps|   Hugo Lloris|                  NA|Raphaël Varane · ...|     43319|Stadion Nizhny No...|Néstor Pitana (Re...|2018-07-06|        0–2|  Néstor Pitana|                  NA|   Quarter-finals|Russia|null|\n",
      "|   Brazil|    Belgium|         1|    2.8|        null|         2|    0.5|        null|                Tite|          Miranda|  Roberto Martínez|   Eden Hazard| Renato Augusto · 76|Fernandinho (OG) ...|     42873|  Kazan Arena, Kazan|Milorad Mažić (Re...|2018-07-06|        1–2|  Milorad Mažić|                  NA|   Quarter-finals|Russia|null|\n",
      "|   Sweden|Switzerland|         1|    1.3|        null|         0|    0.7|        null|     Janne Andersson|Andreas Granqvist| Vladimir Petković| Valon Behrami|  Emil Forsberg · 66| Michael Lang · 90+3|     64042|Gazprom Arena, Sa...|Damir Skomina (Re...|2018-07-03|        1–0|  Damir Skomina|                  NA|      Round of 16|Russia|null|\n",
      "| Colombia|    England|         1|    0.6|           3|         1|    2.1|           4|       José Pekerman|   Radamel Falcao|  Gareth Southgate|    Harry Kane|   Yerry Mina · 90+3| Harry Kane (P) · 57|     44190|Otkrytie Arena, M...|Mark Geiger (Refe...|2018-07-03|(3) 1–1 (4)|    Mark Geiger|England won on pe...|      Round of 16|Russia|null|\n",
      "|   Brazil|     Mexico|         2|    2.7|        null|         0|    0.7|        null|                Tite|     Thiago Silva|Juan Carlos Osorio|Rafael Márquez|Neymar · 51|Rober...|                  NA|     41970|Cosmos Arena, Samara|Gianluca Rocchi (...|2018-07-02|        2–0|Gianluca Rocchi|                  NA|      Round of 16|Russia|null|\n",
      "+---------+-----------+----------+-------+------------+----------+-------+------------+--------------------+-----------------+------------------+--------------+--------------------+--------------------+----------+--------------------+--------------------+----------+-----------+---------------+--------------------+-----------------+------+----+\n",
      "only showing top 10 rows\n",
      "\n"
     ]
    }
   ],
   "source": [
    "#convert StringType to DateType\n",
    "matches = matches.withColumn(\"Date\", to_date(col(\"Date\"), 'yyyy-MM-dd'))\n",
    "matches = matches.withColumn(\"Year\", to_date(col(\"Year\"), 'yyyy'))\n",
    "\n",
    "matches.printSchema()\n",
    "matches.show(10)"
   ]
  },
  {
   "cell_type": "markdown",
   "metadata": {},
   "source": [
    "Calculate the total number and average number of goals per year"
   ]
  },
  {
   "cell_type": "code",
   "execution_count": 27,
   "metadata": {},
   "outputs": [
    {
     "name": "stdout",
     "output_type": "stream",
     "text": [
      "+----------+--------------------+-----------+\n",
      "|      Year|                Host|total_goals|\n",
      "+----------+--------------------+-----------+\n",
      "|1930-01-01|             Uruguay|         70|\n",
      "|1934-01-01|               Italy|         70|\n",
      "|1938-01-01|              France|         84|\n",
      "|1950-01-01|              Brazil|         88|\n",
      "|1954-01-01|         Switzerland|        140|\n",
      "|1958-01-01|              Sweden|        126|\n",
      "|1962-01-01|               Chile|         89|\n",
      "|1966-01-01|             England|         89|\n",
      "|1970-01-01|              Mexico|         95|\n",
      "|1974-01-01|             Germany|         97|\n",
      "|1978-01-01|           Argentina|        102|\n",
      "|1982-01-01|               Spain|        146|\n",
      "|1986-01-01|              Mexico|        132|\n",
      "|1990-01-01|               Italy|        115|\n",
      "|1994-01-01|       United States|        141|\n",
      "|1998-01-01|              France|        171|\n",
      "|2002-01-01|Korea Republic, J...|        161|\n",
      "|2006-01-01|             Germany|        147|\n",
      "|2010-01-01|        South Africa|        145|\n",
      "|2014-01-01|              Brazil|        171|\n",
      "|2018-01-01|              Russia|        169|\n",
      "+----------+--------------------+-----------+\n",
      "\n"
     ]
    }
   ],
   "source": [
    "matches_all_goals = matches.withColumn(\"total_goals\", col(\"home_score\") + col(\"away_score\")) \\\n",
    "    .groupBy('Year', 'Host') \\\n",
    "    .agg(sum('total_goals').alias('total_goals')) \\\n",
    "    .sort('Year') \\\n",
    "    .na.drop(how = 'any') \\\n",
    "\n",
    "matches_all_goals.show(21)"
   ]
  },
  {
   "cell_type": "code",
   "execution_count": 28,
   "metadata": {},
   "outputs": [
    {
     "name": "stdout",
     "output_type": "stream",
     "text": [
      "+----------+--------------------+-----------------------+\n",
      "|      Year|                Host|average_goals_per_match|\n",
      "+----------+--------------------+-----------------------+\n",
      "|1930-01-01|             Uruguay|      3.888888888888889|\n",
      "|1934-01-01|               Italy|      4.117647058823529|\n",
      "|1938-01-01|              France|      4.666666666666667|\n",
      "|1950-01-01|              Brazil|                    4.0|\n",
      "|1954-01-01|         Switzerland|      5.384615384615385|\n",
      "|1958-01-01|              Sweden|                    3.6|\n",
      "|1962-01-01|               Chile|                2.78125|\n",
      "|1966-01-01|             England|                2.78125|\n",
      "|1970-01-01|              Mexico|                2.96875|\n",
      "|1974-01-01|             Germany|     2.5526315789473686|\n",
      "|1978-01-01|           Argentina|     2.6842105263157894|\n",
      "|1982-01-01|               Spain|     2.8076923076923075|\n",
      "|1986-01-01|              Mexico|     2.5384615384615383|\n",
      "|1990-01-01|               Italy|     2.2115384615384617|\n",
      "|1994-01-01|       United States|     2.7115384615384617|\n",
      "|1998-01-01|              France|               2.671875|\n",
      "|2002-01-01|Korea Republic, J...|               2.515625|\n",
      "|2006-01-01|             Germany|               2.296875|\n",
      "|2010-01-01|        South Africa|               2.265625|\n",
      "|2014-01-01|              Brazil|               2.671875|\n",
      "|2018-01-01|              Russia|               2.640625|\n",
      "+----------+--------------------+-----------------------+\n",
      "\n"
     ]
    }
   ],
   "source": [
    "from pyspark.sql.functions import *\n",
    "\n",
    "matches_avg_goals = matches.withColumn(\"total_goals\", col(\"home_score\") + col(\"away_score\")) \\\n",
    "    .groupBy('Year', 'Host') \\\n",
    "    .agg(avg('total_goals').alias('average_goals_per_match')) \\\n",
    "    .sort('Year') \\\n",
    "    .na.drop(how = 'any') \\\n",
    "\n",
    "\n",
    "matches_avg_goals.show(21)"
   ]
  },
  {
   "cell_type": "code",
   "execution_count": 31,
   "metadata": {},
   "outputs": [
    {
     "name": "stdout",
     "output_type": "stream",
     "text": [
      "+----------+--------------------+-----------+-----------------------+\n",
      "|      Year|                Host|total_goals|average_goals_per_match|\n",
      "+----------+--------------------+-----------+-----------------------+\n",
      "|1930-01-01|             Uruguay|         70|      3.888888888888889|\n",
      "|1934-01-01|               Italy|         70|      4.117647058823529|\n",
      "|1938-01-01|              France|         84|      4.666666666666667|\n",
      "|1950-01-01|              Brazil|         88|                    4.0|\n",
      "|1954-01-01|         Switzerland|        140|      5.384615384615385|\n",
      "|1958-01-01|              Sweden|        126|                    3.6|\n",
      "|1962-01-01|               Chile|         89|                2.78125|\n",
      "|1966-01-01|             England|         89|                2.78125|\n",
      "|1970-01-01|              Mexico|         95|                2.96875|\n",
      "|1974-01-01|             Germany|         97|     2.5526315789473686|\n",
      "|1978-01-01|           Argentina|        102|     2.6842105263157894|\n",
      "|1982-01-01|               Spain|        146|     2.8076923076923075|\n",
      "|1986-01-01|              Mexico|        132|     2.5384615384615383|\n",
      "|1990-01-01|               Italy|        115|     2.2115384615384617|\n",
      "|1994-01-01|       United States|        141|     2.7115384615384617|\n",
      "|1998-01-01|              France|        171|               2.671875|\n",
      "|2002-01-01|Korea Republic, J...|        161|               2.515625|\n",
      "|2006-01-01|             Germany|        147|               2.296875|\n",
      "|2010-01-01|        South Africa|        145|               2.265625|\n",
      "|2014-01-01|              Brazil|        171|               2.671875|\n",
      "|2018-01-01|              Russia|        169|               2.640625|\n",
      "+----------+--------------------+-----------+-----------------------+\n",
      "\n"
     ]
    }
   ],
   "source": [
    "#join the two tables together into one\n",
    "joinExpression = [\"Year\", \"Host\"]\n",
    "merged_goals = matches_all_goals.join(matches_avg_goals, joinExpression, \"left\")\n",
    "merged_goals.show(21)"
   ]
  },
  {
   "cell_type": "markdown",
   "metadata": {},
   "source": [
    "Save data into bucket/big query"
   ]
  },
  {
   "cell_type": "code",
   "execution_count": 23,
   "metadata": {},
   "outputs": [],
   "source": [
    "#write data to bucket\n",
    "matches.write.mode(\"overwrite\").format(\"csv\").save(\"gs://de_jads_batch_data/matches.csv\") # bucket name !"
   ]
  },
  {
   "cell_type": "code",
   "execution_count": 32,
   "metadata": {},
   "outputs": [],
   "source": [
    "#use the cloud storage bucket for temporary BigQuery export data used by the connector\n",
    "bucket = \"de_jads_temp_annelies\" # bucket name !\n",
    "spark.conf.set('temporaryGcsBucket', bucket)\n",
    "\n",
    "#save the combined matches data to BigQuery -> do not forget to change project ID\n",
    "matches.write.format('bigquery') \\\n",
    "    .option('table', 'de2022-362620.assignment2dataset.matches') \\\n",
    "    .mode(\"overwrite\") \\\n",
    "    .save()\n",
    "\n",
    "#save the goal data to bigQuery -> do not forget to change project ID\n",
    "merged_goals.write.format('bigquery') \\\n",
    "    .option('table', 'de2022-362620.assignment2dataset.goals') \\\n",
    "    .mode(\"append\") \\\n",
    "    .save()"
   ]
  },
  {
   "cell_type": "code",
   "execution_count": 33,
   "metadata": {},
   "outputs": [],
   "source": [
    "# stop the spark context\n",
    "spark.stop()"
   ]
  },
  {
   "cell_type": "code",
   "execution_count": null,
   "metadata": {},
   "outputs": [],
   "source": []
  }
 ],
 "metadata": {
  "kernelspec": {
   "display_name": "Python 3 (ipykernel)",
   "language": "python",
   "name": "python3"
  },
  "language_info": {
   "codemirror_mode": {
    "name": "ipython",
    "version": 3
   },
   "file_extension": ".py",
   "mimetype": "text/x-python",
   "name": "python",
   "nbconvert_exporter": "python",
   "pygments_lexer": "ipython3",
   "version": "3.10.6"
  },
  "vscode": {
   "interpreter": {
    "hash": "9e947f99e5646f1a50a8a3b44013693852ca5b959a6ebe087e36f57b041d6447"
   }
  }
 },
 "nbformat": 4,
 "nbformat_minor": 4
}
