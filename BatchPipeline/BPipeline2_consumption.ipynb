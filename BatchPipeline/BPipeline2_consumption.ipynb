{
 "cells": [
  {
   "cell_type": "code",
   "execution_count": 4,
   "id": "dfdcbb6e",
   "metadata": {},
   "outputs": [
    {
     "name": "stdout",
     "output_type": "stream",
     "text": [
      "root\n",
      " |-- ParentLocation: string (nullable = true)\n",
      " |-- Location: string (nullable = true)\n",
      " |-- Period: long (nullable = true)\n",
      " |-- isLatestYear: string (nullable = true)\n",
      " |-- Dim1: string (nullable = true)\n",
      " |-- FactValueNumeric: long (nullable = true)\n",
      "\n"
     ]
    }
   ],
   "source": [
    "from pyspark.sql import SparkSession\n",
    "from pyspark import SparkConf\n",
    "from pyspark.sql.types import StructType, StructField, StringType, LongType, DoubleType, DateType\n",
    "from pyspark.sql.functions import *\n",
    "\n",
    "#set up spark (session)\n",
    "sparkConf = SparkConf()\n",
    "sparkConf.setMaster(\"spark://spark-master:7077\")\n",
    "sparkConf.setAppName(\"BatchPipeline\")\n",
    "sparkConf.set(\"spark.driver.memory\", \"2g\")\n",
    "sparkConf.set(\"spark.executor.cores\", \"1\")\n",
    "sparkConf.set(\"spark.driver.cores\", \"1\")\n",
    "\n",
    "spark = SparkSession.builder.config(conf=sparkConf).getOrCreate()\n",
    "\n",
    "#set up hadoop fs configuration\n",
    "conf = spark.sparkContext._jsc.hadoopConfiguration()\n",
    "conf.set(\"fs.gs.impl\", \"com.google.cloud.hadoop.fs.gcs.GoogleHadoopFileSystem\")\n",
    "conf.set(\"fs.AbstractFileSystem.gs.impl\", \"com.google.cloud.hadoop.fs.gcs.GoogleHadoopFS\")\n",
    "\n",
    "#retrieve data from bucket\n",
    "#google storage file path\n",
    "#make sure this is a separate bucket that only has the correct files in there\n",
    "gsc_file_path = 'gs://jadsdenb/' # bucket name with whodata.csv file\n",
    "\n",
    "dataSchema = StructType(\n",
    "    [StructField(\"ParentLocation\", StringType(), True),\n",
    "    StructField(\"Location\", StringType(), True),\n",
    "    StructField(\"Period\", LongType(), True),\n",
    "    StructField(\"isLatestYear\", StringType(), True),\n",
    "    StructField(\"Dim1\", StringType(), True),\n",
    "    StructField(\"FactValueNumeric\", LongType(), True)\n",
    "    ])\n",
    "\n",
    "consumed = spark.read.format(\"csv\").schema(dataSchema).option(\"header\", \"true\") \\\n",
    "    .load(gsc_file_path+'whodata.csv')\n",
    "\n",
    "consumed.printSchema()"
   ]
  },
  {
   "cell_type": "code",
   "execution_count": 8,
   "id": "f02dfd03",
   "metadata": {},
   "outputs": [
    {
     "name": "stdout",
     "output_type": "stream",
     "text": [
      "root\n",
      " |-- ParentLocation: string (nullable = true)\n",
      " |-- Location: string (nullable = true)\n",
      " |-- Period: date (nullable = true)\n",
      " |-- isLatestYear: string (nullable = true)\n",
      " |-- Dim1: string (nullable = true)\n",
      " |-- FactValueNumeric: long (nullable = true)\n",
      "\n",
      "+--------------------+-----------+----------+------------+--------------------+----------------+\n",
      "|      ParentLocation|   Location|    Period|isLatestYear|                Dim1|FactValueNumeric|\n",
      "+--------------------+-----------+----------+------------+--------------------+----------------+\n",
      "|Eastern Mediterra...|Afghanistan|2019-01-01|        True|                Beer|            null|\n",
      "|Eastern Mediterra...|Afghanistan|2019-01-01|        True|Other alcoholic b...|            null|\n",
      "|Eastern Mediterra...|Afghanistan|2019-01-01|        True|                Wine|            null|\n",
      "|              Africa|    Algeria|2019-01-01|        True|Other alcoholic b...|            null|\n",
      "|              Europe|    Andorra|2019-01-01|        True|Other alcoholic b...|            null|\n",
      "|              Europe|    Austria|2019-01-01|        True|Other alcoholic b...|            null|\n",
      "|     South-East Asia| Bangladesh|2019-01-01|        True|                Beer|            null|\n",
      "|     South-East Asia| Bangladesh|2019-01-01|        True|Other alcoholic b...|            null|\n",
      "|     South-East Asia| Bangladesh|2019-01-01|        True|             Spirits|            null|\n",
      "|     South-East Asia| Bangladesh|2019-01-01|        True|           All types|            null|\n",
      "+--------------------+-----------+----------+------------+--------------------+----------------+\n",
      "only showing top 10 rows\n",
      "\n"
     ]
    }
   ],
   "source": [
    "consumed = consumed.withColumn(\"Period\", to_date(col(\"Period\"), 'yyyy'))\n",
    "consumed.printSchema()\n",
    "consumed.show(10)"
   ]
  },
  {
   "cell_type": "code",
   "execution_count": 31,
   "id": "739a21a7",
   "metadata": {},
   "outputs": [
    {
     "name": "stdout",
     "output_type": "stream",
     "text": [
      "+--------------------+----------+---------+----------------+\n",
      "|            Location|    Period|     Dim1|FactValueNumeric|\n",
      "+--------------------+----------+---------+----------------+\n",
      "|United States of ...|1960-01-01|All types|            null|\n",
      "|             Austria|1960-01-01|All types|            null|\n",
      "|         Afghanistan|1961-01-01|All types|            null|\n",
      "|              Guinea|1961-01-01|All types|            null|\n",
      "|Micronesia (Feder...|1961-01-01|All types|            null|\n",
      "|                Oman|1961-01-01|All types|            null|\n",
      "|          Bangladesh|1961-01-01|All types|            null|\n",
      "|              Kuwait|1961-01-01|All types|            null|\n",
      "|               Nepal|1961-01-01|All types|            null|\n",
      "|          Mauritania|1961-01-01|All types|            null|\n",
      "|               Qatar|1961-01-01|All types|            null|\n",
      "|        Saudi Arabia|1961-01-01|All types|            null|\n",
      "|            Pakistan|1961-01-01|All types|            null|\n",
      "|           Indonesia|1961-01-01|All types|            null|\n",
      "|              Malawi|1961-01-01|All types|            null|\n",
      "|             Somalia|1961-01-01|All types|            null|\n",
      "|             Comoros|1961-01-01|All types|            null|\n",
      "|               Niger|1961-01-01|All types|            null|\n",
      "|Iran (Islamic Rep...|1961-01-01|All types|            null|\n",
      "|              Jordan|1961-01-01|All types|            null|\n",
      "+--------------------+----------+---------+----------------+\n",
      "only showing top 20 rows\n",
      "\n"
     ]
    }
   ],
   "source": [
    "avg_total_consumption = consumed.select('Location', 'Period', 'Dim1', 'FactValueNumeric') \\\n",
    "    .where(col('Dim1') == 'All types')\\\n",
    "    .sort('Period') \\\n",
    "\n",
    "avg_total_consumption.show()"
   ]
  },
  {
   "cell_type": "code",
   "execution_count": null,
   "id": "d3c6670f-79b9-40f3-9e61-9a79266356e4",
   "metadata": {},
   "outputs": [],
   "source": [
    "#write data to bucket\n",
    "matches.write.mode(\"overwrite\").format(\"csv\").save(\"gs://de_jads_batch_data/whodata.csv\") # bucket name !"
   ]
  },
  {
   "cell_type": "code",
   "execution_count": null,
   "id": "9869848a-dc5a-4341-b793-0781d6caf522",
   "metadata": {},
   "outputs": [],
   "source": [
    "#use the cloud storage bucket for temporary BigQuery export data used by the connector\n",
    "bucket = \"niels_bq_bucket\" # bucket name !\n",
    "spark.conf.set('temporaryGcsBucket', bucket)\n",
    "\n",
    "#save the goal data to bigQuery -> do not forget to change project ID\n",
    "consumed.write.format('bigquery') \\\n",
    "    .option('table', 'de2022-366418.assignment2dataset.consumption') \\\n",
    "    .mode(\"append\") \\\n",
    "    .save()"
   ]
  },
  {
   "cell_type": "code",
   "execution_count": null,
   "id": "6fb91eed-6056-4065-aa0b-7562be42d014",
   "metadata": {},
   "outputs": [],
   "source": [
    "# stop the spark context\n",
    "spark.stop()"
   ]
  }
 ],
 "metadata": {
  "kernelspec": {
   "display_name": "Python 3 (ipykernel)",
   "language": "python",
   "name": "python3"
  },
  "language_info": {
   "codemirror_mode": {
    "name": "ipython",
    "version": 3
   },
   "file_extension": ".py",
   "mimetype": "text/x-python",
   "name": "python",
   "nbconvert_exporter": "python",
   "pygments_lexer": "ipython3",
   "version": "3.10.6"
  }
 },
 "nbformat": 4,
 "nbformat_minor": 5
}
